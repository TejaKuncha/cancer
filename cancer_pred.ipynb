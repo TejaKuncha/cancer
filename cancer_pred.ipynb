{
 "cells": [
  {
   "cell_type": "code",
   "execution_count": 1,
   "metadata": {},
   "outputs": [],
   "source": [
    "import pandas as pd\n",
    "import numpy as np\n",
    "import warnings\n",
    "from sklearn.svm import SVC\n",
    "from sklearn.neighbors import KNeighborsClassifier\n",
    "from sklearn.neural_network import MLPClassifier\n",
    "from sklearn.ensemble import RandomForestClassifier\n",
    "from sklearn.model_selection import cross_val_score, train_test_split\n",
    "from sklearn.preprocessing import StandardScaler\n",
    "from sklearn.feature_selection import RFECV\n",
    "from sklearn.linear_model import SGDClassifier\n",
    "from sklearn.decomposition import PCA\n",
    "from sklearn.cluster import KMeans\n",
    "from sklearn.mixture import GaussianMixture, BayesianGaussianMixture\n",
    "from sklearn.metrics import f1_score, accuracy_score"
   ]
  },
  {
   "cell_type": "code",
   "execution_count": 2,
   "metadata": {},
   "outputs": [
    {
     "name": "stdout",
     "output_type": "stream",
     "text": [
      "Train_data.shape: (398, 30)\n"
     ]
    }
   ],
   "source": [
    "warnings.filterwarnings('ignore')\n",
    "data = pd.read_csv('data.csv', sep=',', header=0)\n",
    "labels = (data['diagnosis'] == 'M')\n",
    "data = data.drop(['id', 'Unnamed: 32', 'diagnosis'], 1)\n",
    "train_data, test_data, y_train, y_test = train_test_split(data, labels, test_size=0.3)\n",
    "y_train = y_train.astype(int)\n",
    "y_test = y_test.astype(int)\n",
    "print('Train_data.shape: {}'.format(train_data.shape))"
   ]
  },
  {
   "cell_type": "code",
   "execution_count": 3,
   "metadata": {},
   "outputs": [],
   "source": [
    "nbr = KNeighborsClassifier(n_neighbors=3)\n",
    "neu = MLPClassifier(hidden_layer_sizes=(32, 8, ), activation='tanh', solver='adam')\n",
    "sv = SVC(kernel='poly', degree=2, coef0=1, C=0.01, decision_function_shape='ovr', probability=True)\n",
    "rat = RandomForestClassifier(n_estimators=50)\n",
    "classifiers = {'KNN': nbr, 'MLP': neu, 'SVM': sv, 'RTr': rat}\n",
    "\n",
    "km = KMeans(n_clusters=2)\n",
    "gm = GaussianMixture(n_components=2)\n",
    "bgm = BayesianGaussianMixture(n_components=2)\n",
    "clusters = {'KMe': km, 'GM': gm, 'BGM': bgm}\n",
    "\n",
    "estimator_ = SGDClassifier()\n",
    "scale = StandardScaler()\n",
    "rfe = RFECV(estimator_, cv=5)"
   ]
  },
  {
   "cell_type": "code",
   "execution_count": 4,
   "metadata": {},
   "outputs": [
    {
     "name": "stdout",
     "output_type": "stream",
     "text": [
      "RFECV: score = 0.9723618090452262 and No. of features = 27\n"
     ]
    }
   ],
   "source": [
    "Xtrain = scale.fit_transform(train_data)\n",
    "Xtest = scale.transform(test_data)\n",
    "X_train = rfe.fit_transform(Xtrain, y_train)\n",
    "X_test = rfe.transform(Xtest)\n",
    "print('RFECV: score = {0} and No. of features = {1}'.format(rfe.score(Xtrain, y_train), rfe.n_features_))\n",
    "pca_components = 10\n",
    "\n",
    "if rfe.n_features_ > pca_components:\n",
    "    pca = PCA(n_components=pca_components)\n",
    "    X_train = pca.fit_transform(X_train, y_train)\n",
    "    X_test = pca.transform(X_test)\n",
    "else:\n",
    "    pca = PCA(n_components=rfe.n_features_)\n",
    "    X_train = pca.fit_transform(X_train, y_train)\n",
    "    X_test = pca.transform(X_test)\n"
   ]
  },
  {
   "cell_type": "code",
   "execution_count": 5,
   "metadata": {},
   "outputs": [
    {
     "name": "stdout",
     "output_type": "stream",
     "text": [
      "\n",
      " KNN: f_score = 0.9586776859504132 accuracy = 0.9707602339181286\n",
      "\n",
      " MLP: f_score = 0.9836065573770492 accuracy = 0.9883040935672515\n",
      "\n",
      " SVM: f_score = 0.9026548672566371 accuracy = 0.935672514619883\n",
      "\n",
      " RTr: f_score = 0.9206349206349206 accuracy = 0.9415204678362573\n"
     ]
    }
   ],
   "source": [
    "for name in classifiers:\n",
    "    clf = classifiers[name]\n",
    "    clf.fit(X_train, y_train)\n",
    "    y_ = clf.predict(X_test)\n",
    "    \n",
    "    print('\\n {0}: f_score = {1} accuracy = {2}'.format(name, f1_score(y_test, y_), \n",
    "                                                        accuracy_score(y_test, y_)))"
   ]
  },
  {
   "cell_type": "code",
   "execution_count": 6,
   "metadata": {},
   "outputs": [
    {
     "name": "stdout",
     "output_type": "stream",
     "text": [
      "\n",
      " KMe: f_score = 0.8571428571428571 accuracy = 0.9064327485380117\n",
      "\n",
      " GM: f_score = 0.45454545454545453 accuracy = 0.6491228070175439\n",
      "\n",
      " BGM: f_score = 0.391304347826087 accuracy = 0.34502923976608185\n"
     ]
    }
   ],
   "source": [
    "for name in clusters:\n",
    "    clu = clusters[name]\n",
    "    clu.fit(X_train)\n",
    "    y_ = clu.predict(X_test)\n",
    "    print('\\n {0}: f_score = {1} accuracy = {2}'.format(name, f1_score(y_test, y_), \n",
    "                                                        accuracy_score(y_test, y_)))"
   ]
  },
  {
   "cell_type": "code",
   "execution_count": null,
   "metadata": {},
   "outputs": [],
   "source": []
  }
 ],
 "metadata": {
  "kernelspec": {
   "display_name": "Python 3",
   "language": "python",
   "name": "python3"
  },
  "language_info": {
   "codemirror_mode": {
    "name": "ipython",
    "version": 3
   },
   "file_extension": ".py",
   "mimetype": "text/x-python",
   "name": "python",
   "nbconvert_exporter": "python",
   "pygments_lexer": "ipython3",
   "version": "3.6.2"
  }
 },
 "nbformat": 4,
 "nbformat_minor": 2
}
